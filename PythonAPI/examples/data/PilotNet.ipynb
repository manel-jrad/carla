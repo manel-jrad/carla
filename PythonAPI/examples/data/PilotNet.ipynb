{
 "cells": [
  {
   "cell_type": "code",
   "execution_count": 6,
   "metadata": {},
   "outputs": [],
   "source": [
    "import os\n",
    "import pandas as pd\n",
    "import numpy as np\n",
    "from sklearn.utils import shuffle\n",
    "import keras\n",
    "from keras.layers import Conv2D, Dropout\n",
    "from keras.models import Sequential\n",
    "from keras.models import load_model\n",
    "\n",
    "from keras.layers import Flatten, Dense\n",
    "from keras.layers import BatchNormalization\n",
    "from keras.layers import Conv2D\n",
    "\n",
    "from keras.optimizers import SGD\n",
    "from keras.preprocessing import image\n",
    "from keras.preprocessing.image import ImageDataGenerator\n",
    "from keras.callbacks import CSVLogger, ModelCheckpoint\n",
    "\n",
    "from PIL import Image\n",
    "from pandas import read_csv\n",
    "\n",
    "\n",
    "\n",
    "train_file = read_csv('train.csv')\n",
    "train_file=train_file.iloc[:, 1:]\n",
    "valid_file = read_csv('valid.csv')\n",
    "valid_file=valid_file.iloc[:, 1:]\n",
    "\n",
    "img = Image.open('mm/'+ str(25272) + '.png')\n",
    "img =img.convert('RGB')\n",
    "width, height = img.size\n",
    "left = 0\n",
    "top = height / 6\n",
    "right = 320\n",
    "bottom = height\n",
    "img = img.crop((left, top, right, bottom))\n",
    "img = img.resize((200,66))\n",
    "arr = image.img_to_array(img)\n",
    "\n",
    "batch_size = 128\n",
    "input_shape=arr.shape\n",
    "img_shape=input_shape\n",
    "train_steps = (train_file.shape[0] / batch_size) + 1\n",
    "val_steps = (valid_file.shape[0] / batch_size) + 1\n",
    "\n",
    "OUTPUT_NORMALIZATION = 6600"
   ]
  },
  {
   "cell_type": "code",
   "execution_count": 7,
   "metadata": {},
   "outputs": [
    {
     "name": "stdout",
     "output_type": "stream",
     "text": [
      "Model: \"sequential_2\"\n",
      "_________________________________________________________________\n",
      "Layer (type)                 Output Shape              Param #   \n",
      "=================================================================\n",
      "conv2d_6 (Conv2D)            (None, 31, 98, 24)        1824      \n",
      "_________________________________________________________________\n",
      "batch_normalization_9 (Batch (None, 31, 98, 24)        96        \n",
      "_________________________________________________________________\n",
      "conv2d_7 (Conv2D)            (None, 14, 47, 36)        21636     \n",
      "_________________________________________________________________\n",
      "batch_normalization_10 (Batc (None, 14, 47, 36)        144       \n",
      "_________________________________________________________________\n",
      "conv2d_8 (Conv2D)            (None, 5, 22, 48)         43248     \n",
      "_________________________________________________________________\n",
      "batch_normalization_11 (Batc (None, 5, 22, 48)         192       \n",
      "_________________________________________________________________\n",
      "conv2d_9 (Conv2D)            (None, 3, 20, 64)         27712     \n",
      "_________________________________________________________________\n",
      "batch_normalization_12 (Batc (None, 3, 20, 64)         256       \n",
      "_________________________________________________________________\n",
      "conv2d_10 (Conv2D)           (None, 1, 18, 64)         36928     \n",
      "_________________________________________________________________\n",
      "batch_normalization_13 (Batc (None, 1, 18, 64)         256       \n",
      "_________________________________________________________________\n",
      "flatten_2 (Flatten)          (None, 1152)              0         \n",
      "_________________________________________________________________\n",
      "dense_5 (Dense)              (None, 100)               115300    \n",
      "_________________________________________________________________\n",
      "batch_normalization_14 (Batc (None, 100)               400       \n",
      "_________________________________________________________________\n",
      "dense_6 (Dense)              (None, 50)                5050      \n",
      "_________________________________________________________________\n",
      "batch_normalization_15 (Batc (None, 50)                200       \n",
      "_________________________________________________________________\n",
      "dense_7 (Dense)              (None, 10)                510       \n",
      "_________________________________________________________________\n",
      "batch_normalization_16 (Batc (None, 10)                40        \n",
      "_________________________________________________________________\n",
      "dense_8 (Dense)              (None, 1)                 11        \n",
      "=================================================================\n",
      "Total params: 253,803\n",
      "Trainable params: 253,011\n",
      "Non-trainable params: 792\n",
      "_________________________________________________________________\n",
      "None\n"
     ]
    }
   ],
   "source": [
    "def generator(df, batch_size):\n",
    "    \n",
    "        \n",
    "    img_list = df['nombre']\n",
    "    wheel_axis = df['steer']    \n",
    "    # create empty batch\n",
    "    batch_img = np.zeros((batch_size,) + img_shape)\n",
    "    batch_label = np.zeros((batch_size, 1))\n",
    "    \n",
    "    index = 0\n",
    "    while True:\n",
    "        for i in range(batch_size):\n",
    "            img_name = img_list[index]\n",
    "            img = Image.open('mm/'+ str(int(img_name)) + '.png')\n",
    "            img =img.convert('RGB')\n",
    "            left = 0\n",
    "            top = height / 6\n",
    "            right = 320\n",
    "            bottom = height\n",
    "            img = img.crop((left, top, right, bottom))\n",
    "            img = img.resize((200,66))\n",
    "            arr = image.img_to_array(img)\n",
    "            \n",
    "            batch_label[i] = wheel_axis[index]*100 \n",
    "            batch_img[i] = arr\n",
    "            \n",
    "            index += 1\n",
    "            if index == len(img_list):\n",
    "                index = 0\n",
    "            \n",
    "        yield batch_img / 255.0, (batch_label / OUTPUT_NORMALIZATION)\n",
    "\n",
    "\n",
    "train_batch = generator(train_file, batch_size)\n",
    "val_batch = generator(valid_file, batch_size)\n",
    "\n",
    "        \n",
    "        \n",
    "def get_model(input_shape):\n",
    "    model = Sequential([\n",
    "        Conv2D(24, kernel_size=(5,5), strides=(2,2), activation='relu', input_shape=input_shape),\n",
    "        BatchNormalization(),\n",
    "        Conv2D(36, kernel_size=(5,5), strides=(2,2), activation='relu'),\n",
    "        BatchNormalization(),\n",
    "        Conv2D(48, kernel_size=(5,5), strides=(2,2), activation='relu'),\n",
    "        BatchNormalization(),\n",
    "        Conv2D(64, kernel_size=(3,3), strides=(1,1), activation='relu'),\n",
    "        BatchNormalization(),\n",
    "        Conv2D(64, kernel_size=(3,3), strides=(1,1), activation='relu'),\n",
    "        BatchNormalization(),\n",
    "        Flatten(),\n",
    "        Dense(100, activation='relu'),\n",
    "        BatchNormalization(),\n",
    "        Dense(50, activation='relu'),\n",
    "        BatchNormalization(),\n",
    "        Dense(10, activation='relu'),\n",
    "        BatchNormalization(),\n",
    "        Dense(1)\n",
    "    ])\n",
    "    return model\n",
    "\n",
    "\n",
    "model = get_model(input_shape)\n",
    "sgd = SGD(lr=1e-3, decay=1e-6, momentum=0.9, nesterov=True)\n",
    "model.compile(optimizer=sgd, loss=\"mse\", metrics=['mae', 'acc'])\n",
    "print(model.summary())"
   ]
  },
  {
   "cell_type": "code",
   "execution_count": 8,
   "metadata": {},
   "outputs": [],
   "source": [
    "from keras.callbacks import ModelCheckpoint, EarlyStopping, TensorBoard\n",
    "\n",
    "model_file_name= 'drive-model' + '-{epoch:03d}-{val_loss:.5f}.h5'\n",
    "callbacks_list = [\n",
    "    ModelCheckpoint(model_file_name, monitor='val_mean_absolute_error', verbose=1, save_best_only=True),\n",
    "    EarlyStopping(monitor='val_mean_absolute_error', patience=3, verbose=0),\n",
    "    TensorBoard(log_dir='./tensorboard/', histogram_freq=0, write_graph=False, write_images=False)\n",
    "    ]"
   ]
  },
  {
   "cell_type": "code",
   "execution_count": 9,
   "metadata": {
    "scrolled": true
   },
   "outputs": [
    {
     "name": "stdout",
     "output_type": "stream",
     "text": [
      "Epoch 1/10\n",
      "201/200 [==============================] - 1021s 5s/step - loss: 0.1389 - mae: 0.2321 - acc: 0.1170 - val_loss: 0.0561 - val_mae: 0.1958 - val_acc: 0.1294\n"
     ]
    },
    {
     "name": "stderr",
     "output_type": "stream",
     "text": [
      "C:\\Users\\Manel\\Anaconda3\\envs\\deeplearning\\lib\\site-packages\\keras\\callbacks\\callbacks.py:707: RuntimeWarning: Can save best model only with val_mean_absolute_error available, skipping.\n",
      "  'skipping.' % (self.monitor), RuntimeWarning)\n",
      "C:\\Users\\Manel\\Anaconda3\\envs\\deeplearning\\lib\\site-packages\\keras\\callbacks\\callbacks.py:846: RuntimeWarning: Early stopping conditioned on metric `val_mean_absolute_error` which is not available. Available metrics are: val_loss,val_mae,val_acc,loss,mae,acc\n",
      "  (self.monitor, ','.join(list(logs.keys()))), RuntimeWarning\n"
     ]
    },
    {
     "name": "stdout",
     "output_type": "stream",
     "text": [
      "Epoch 2/10\n",
      "201/200 [==============================] - 863s 4s/step - loss: 0.0312 - mae: 0.1240 - acc: 0.1260 - val_loss: 0.0541 - val_mae: 0.1503 - val_acc: 0.1299\n",
      "Epoch 3/10\n",
      "201/200 [==============================] - 845s 4s/step - loss: 0.0242 - mae: 0.1074 - acc: 0.1265 - val_loss: 0.0253 - val_mae: 0.1020 - val_acc: 0.1297\n",
      "Epoch 4/10\n",
      "201/200 [==============================] - 903s 4s/step - loss: 0.0205 - mae: 0.0981 - acc: 0.1265 - val_loss: 0.0306 - val_mae: 0.0917 - val_acc: 0.1294\n",
      "Epoch 5/10\n",
      "201/200 [==============================] - 996s 5s/step - loss: 0.0186 - mae: 0.0933 - acc: 0.1264 - val_loss: 0.0179 - val_mae: 0.0883 - val_acc: 0.1305\n",
      "Epoch 6/10\n",
      "201/200 [==============================] - 972s 5s/step - loss: 0.0166 - mae: 0.0880 - acc: 0.1267 - val_loss: 0.0118 - val_mae: 0.0830 - val_acc: 0.1296\n",
      "Epoch 7/10\n",
      "201/200 [==============================] - 905s 5s/step - loss: 0.0156 - mae: 0.0855 - acc: 0.1265 - val_loss: 0.0165 - val_mae: 0.0810 - val_acc: 0.1297\n",
      "Epoch 8/10\n",
      "201/200 [==============================] - 1130s 6s/step - loss: 0.0146 - mae: 0.0829 - acc: 0.1267 - val_loss: 0.0177 - val_mae: 0.0793 - val_acc: 0.1293\n",
      "Epoch 9/10\n",
      "201/200 [==============================] - 1117s 6s/step - loss: 0.0134 - mae: 0.0796 - acc: 0.1266 - val_loss: 0.0132 - val_mae: 0.0760 - val_acc: 0.1290\n",
      "Epoch 10/10\n",
      "201/200 [==============================] - 1184s 6s/step - loss: 0.0128 - mae: 0.0779 - acc: 0.1267 - val_loss: 0.0118 - val_mae: 0.0739 - val_acc: 0.1293\n"
     ]
    }
   ],
   "source": [
    "model.fit_generator(train_batch, \n",
    "                    train_steps, \n",
    "                    epochs=10, \n",
    "                    verbose=1, \n",
    "                    callbacks=callbacks_list, \n",
    "                    validation_data=val_batch, \n",
    "                    validation_steps=val_steps,\n",
    "                    initial_epoch=0)\n",
    "\n",
    "model.save('drive-model.h5')"
   ]
  },
  {
   "cell_type": "code",
   "execution_count": null,
   "metadata": {},
   "outputs": [],
   "source": []
  },
  {
   "cell_type": "code",
   "execution_count": null,
   "metadata": {},
   "outputs": [],
   "source": []
  },
  {
   "cell_type": "code",
   "execution_count": null,
   "metadata": {},
   "outputs": [],
   "source": [
    "\n"
   ]
  },
  {
   "cell_type": "code",
   "execution_count": null,
   "metadata": {},
   "outputs": [],
   "source": [
    "\n"
   ]
  },
  {
   "cell_type": "code",
   "execution_count": null,
   "metadata": {},
   "outputs": [],
   "source": []
  },
  {
   "cell_type": "code",
   "execution_count": null,
   "metadata": {},
   "outputs": [],
   "source": []
  }
 ],
 "metadata": {
  "kernelspec": {
   "display_name": "Python 3",
   "language": "python",
   "name": "python3"
  },
  "language_info": {
   "codemirror_mode": {
    "name": "ipython",
    "version": 3
   },
   "file_extension": ".py",
   "mimetype": "text/x-python",
   "name": "python",
   "nbconvert_exporter": "python",
   "pygments_lexer": "ipython3",
   "version": "3.7.4"
  }
 },
 "nbformat": 4,
 "nbformat_minor": 2
}
