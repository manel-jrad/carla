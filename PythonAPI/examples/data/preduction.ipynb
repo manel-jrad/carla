{
 "cells": [
  {
   "cell_type": "code",
   "execution_count": 67,
   "metadata": {},
   "outputs": [],
   "source": [
    "import keras\n",
    "from keras.models import load_model\n",
    "\n",
    "%matplotlib inline\n",
    "import matplotlib.pyplot as plt\n",
    "\n",
    "import os\n",
    "import numpy as np\n",
    "from PIL import Image\n",
    "from keras.preprocessing import image\n",
    "from pandas import read_csv\n",
    "\n",
    "valid_file = read_csv('valid.csv')\n",
    "valid_file=valid_file.iloc[:, 1:]\n",
    "\n",
    "OUTPUT_NORMALIZATION = 6600\n",
    "model = load_model('drive-model.h5')\n"
   ]
  },
  {
   "cell_type": "code",
   "execution_count": 68,
   "metadata": {},
   "outputs": [],
   "source": [
    "\n",
    "def get_angle(predict):\n",
    "    angle = predict[0][0]\n",
    "    angle *= OUTPUT_NORMALIZATION\n",
    "    angle /= 100\n",
    "    return int(angle)\n"
   ]
  },
  {
   "cell_type": "code",
   "execution_count": 69,
   "metadata": {},
   "outputs": [],
   "source": [
    "img_list = valid_file['nombre']\n",
    "wheel_axis = list(valid_file['steer'])  \n",
    "batch_size=len(wheel_axis)\n",
    "pred=[]\n",
    "index = 0\n",
    "for i in range(batch_size):\n",
    "    img_name = img_list[i]\n",
    "    img = Image.open('mm/'+ str(int(img_name)) + '.png')\n",
    "    img =img.convert('RGB')\n",
    "    left = 0\n",
    "    top = height / 6\n",
    "    right = 320\n",
    "    bottom = height\n",
    "    img = img.crop((left, top, right, bottom))\n",
    "    img = img.resize((200,66))\n",
    "    arr = image.img_to_array(img)\n",
    "    arr=arr/ 255.0\n",
    "    arr = np.reshape(arr, (1,) + arr.shape)\n",
    "    angle = get_angle(model.predict(arr, batch_size = 1))\n",
    "    pred.append(angle)  \n",
    "            \n",
    "\n"
   ]
  },
  {
   "cell_type": "code",
   "execution_count": 70,
   "metadata": {},
   "outputs": [
    {
     "data": {
      "text/plain": [
       "6389"
      ]
     },
     "execution_count": 70,
     "metadata": {},
     "output_type": "execute_result"
    }
   ],
   "source": [
    "batch_size"
   ]
  },
  {
   "cell_type": "code",
   "execution_count": 32,
   "metadata": {},
   "outputs": [],
   "source": [
    "\n",
    "    \n",
    "\n",
    "    "
   ]
  },
  {
   "cell_type": "code",
   "execution_count": 73,
   "metadata": {},
   "outputs": [
    {
     "data": {
      "text/plain": [
       "52.981593254030365"
      ]
     },
     "execution_count": 73,
     "metadata": {},
     "output_type": "execute_result"
    }
   ],
   "source": [
    "MSE"
   ]
  },
  {
   "cell_type": "code",
   "execution_count": 72,
   "metadata": {},
   "outputs": [],
   "source": [
    "  \n",
    "# Mean Squared Error \n",
    "MSE = np.square(np.subtract(wheel_axis,pred)).mean() "
   ]
  },
  {
   "cell_type": "code",
   "execution_count": 43,
   "metadata": {},
   "outputs": [],
   "source": []
  },
  {
   "cell_type": "code",
   "execution_count": null,
   "metadata": {},
   "outputs": [],
   "source": []
  },
  {
   "cell_type": "code",
   "execution_count": null,
   "metadata": {},
   "outputs": [],
   "source": []
  },
  {
   "cell_type": "code",
   "execution_count": null,
   "metadata": {},
   "outputs": [],
   "source": []
  },
  {
   "cell_type": "code",
   "execution_count": null,
   "metadata": {},
   "outputs": [],
   "source": []
  }
 ],
 "metadata": {
  "kernelspec": {
   "display_name": "Python 3",
   "language": "python",
   "name": "python3"
  },
  "language_info": {
   "codemirror_mode": {
    "name": "ipython",
    "version": 3
   },
   "file_extension": ".py",
   "mimetype": "text/x-python",
   "name": "python",
   "nbconvert_exporter": "python",
   "pygments_lexer": "ipython3",
   "version": "3.7.4"
  }
 },
 "nbformat": 4,
 "nbformat_minor": 2
}
