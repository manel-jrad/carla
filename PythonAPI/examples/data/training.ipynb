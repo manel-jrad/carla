{
 "cells": [
  {
   "cell_type": "code",
   "execution_count": 4,
   "metadata": {},
   "outputs": [],
   "source": [
    "import os\n",
    "import pandas as pd\n",
    "import numpy as np\n",
    "from sklearn.utils import shuffle\n",
    "import keras\n",
    "\n",
    "from keras.models import Sequential\n",
    "from keras.models import load_model\n",
    "\n",
    "from keras.layers import Flatten, Dense\n",
    "from keras.layers import BatchNormalization\n",
    "from keras.layers import Conv2D, Dropout\n",
    "\n",
    "from keras.optimizers import SGD\n",
    "from keras.preprocessing import image\n",
    "from keras.preprocessing.image import ImageDataGenerator\n",
    "from keras.callbacks import CSVLogger, ModelCheckpoint\n",
    "import tensorflow.compat.v1 as tf\n",
    "from PIL import Image\n",
    "from pandas import read_csv\n",
    "import io\n",
    "train_file = read_csv('train.csv')\n",
    "train_file = train_file.iloc[:, 1:]\n",
    "valid_file = read_csv('valid.csv')\n",
    "valid_file=valid_file.iloc[:, 1:]\n",
    "\n",
    "img = Image.open('mm/'+ str(39352) + '.png')\n",
    "img =img.convert('RGB')\n",
    "width, height = img.size\n",
    "left = 0\n",
    "top = height / 6\n",
    "right = 320\n",
    "bottom = height\n",
    "img = img.crop((left, top, right, bottom))\n",
    "img = img.resize((200,66))\n",
    "arr = image.img_to_array(img)\n",
    "input_shape=arr.shape\n",
    "OUTPUT_NORMALIZATION = 66"
   ]
  },
  {
   "cell_type": "code",
   "execution_count": 6,
   "metadata": {},
   "outputs": [
    {
     "data": {
      "text/plain": [
       "(25554, 2)"
      ]
     },
     "execution_count": 6,
     "metadata": {},
     "output_type": "execute_result"
    }
   ],
   "source": [
    "train_file.shape"
   ]
  },
  {
   "cell_type": "code",
   "execution_count": 7,
   "metadata": {},
   "outputs": [],
   "source": [
    "wheel_axis1 = valid_file['steer']    \n",
    "img_list1 = valid_file['nombre']\n",
    "X_valid=np.zeros((len(img_list1),) + arr.shape)\n",
    "y_valid=np.zeros((len(img_list1),1))\n",
    "for i in range(len(img_list1)):\n",
    "            img_name = img_list1[i]\n",
    "            img = Image.open('mm/'+ str(int(img_name)) + '.png')\n",
    "            img =img.convert('RGB')\n",
    "            left = 0\n",
    "            top = height / 6\n",
    "            right = 320\n",
    "            bottom = height\n",
    "            img = img.crop((left, top, right, bottom))\n",
    "            img = img.resize((200,66))\n",
    "            arr = image.img_to_array(img)\n",
    "            y_valid[i] = wheel_axis1[i]/ OUTPUT_NORMALIZATION    \n",
    "            X_valid[i] = arr/255\n"
   ]
  },
  {
   "cell_type": "code",
   "execution_count": 8,
   "metadata": {},
   "outputs": [],
   "source": [
    "wheel_axis = train_file['steer']    \n",
    "img_list = train_file['nombre']\n",
    "X_train=np.zeros((len(img_list),) + arr.shape)\n",
    "y_train=np.zeros((len(img_list),1))\n",
    "for i in range(len(img_list)):\n",
    "            img_name = img_list[i]\n",
    "            img = Image.open('mm/'+ str(int(img_name)) + '.png')\n",
    "            img =img.convert('RGB')\n",
    "            left = 0\n",
    "            top = height / 6\n",
    "            right = 320\n",
    "            bottom = height\n",
    "            img = img.crop((left, top, right, bottom))\n",
    "            img = img.resize((200,66))\n",
    "            arr = image.img_to_array(img)\n",
    "            y_train[i] = wheel_axis[i]/ OUTPUT_NORMALIZATION    \n",
    "            X_train[i] = arr/255\n",
    "            \n",
    "\n",
    "batch_size = 80"
   ]
  },
  {
   "cell_type": "code",
   "execution_count": 9,
   "metadata": {},
   "outputs": [
    {
     "name": "stdout",
     "output_type": "stream",
     "text": [
      "Model: \"sequential_1\"\n",
      "_________________________________________________________________\n",
      "Layer (type)                 Output Shape              Param #   \n",
      "=================================================================\n",
      "conv2d_1 (Conv2D)            (None, 31, 98, 24)        1824      \n",
      "_________________________________________________________________\n",
      "batch_normalization_1 (Batch (None, 31, 98, 24)        124       \n",
      "_________________________________________________________________\n",
      "conv2d_2 (Conv2D)            (None, 14, 47, 36)        21636     \n",
      "_________________________________________________________________\n",
      "batch_normalization_2 (Batch (None, 14, 47, 36)        56        \n",
      "_________________________________________________________________\n",
      "conv2d_3 (Conv2D)            (None, 5, 22, 48)         43248     \n",
      "_________________________________________________________________\n",
      "batch_normalization_3 (Batch (None, 5, 22, 48)         20        \n",
      "_________________________________________________________________\n",
      "conv2d_4 (Conv2D)            (None, 3, 20, 64)         27712     \n",
      "_________________________________________________________________\n",
      "batch_normalization_4 (Batch (None, 3, 20, 64)         12        \n",
      "_________________________________________________________________\n",
      "conv2d_5 (Conv2D)            (None, 1, 18, 64)         36928     \n",
      "_________________________________________________________________\n",
      "batch_normalization_5 (Batch (None, 1, 18, 64)         4         \n",
      "_________________________________________________________________\n",
      "flatten_1 (Flatten)          (None, 1152)              0         \n",
      "_________________________________________________________________\n",
      "dense_1 (Dense)              (None, 100)               115300    \n",
      "_________________________________________________________________\n",
      "dropout_1 (Dropout)          (None, 100)               0         \n",
      "_________________________________________________________________\n",
      "batch_normalization_6 (Batch (None, 100)               400       \n",
      "_________________________________________________________________\n",
      "dense_2 (Dense)              (None, 50)                5050      \n",
      "_________________________________________________________________\n",
      "dropout_2 (Dropout)          (None, 50)                0         \n",
      "_________________________________________________________________\n",
      "batch_normalization_7 (Batch (None, 50)                200       \n",
      "_________________________________________________________________\n",
      "dense_3 (Dense)              (None, 10)                510       \n",
      "_________________________________________________________________\n",
      "dropout_3 (Dropout)          (None, 10)                0         \n",
      "_________________________________________________________________\n",
      "batch_normalization_8 (Batch (None, 10)                40        \n",
      "_________________________________________________________________\n",
      "dense_4 (Dense)              (None, 1)                 11        \n",
      "=================================================================\n",
      "Total params: 253,075\n",
      "Trainable params: 252,647\n",
      "Non-trainable params: 428\n",
      "_________________________________________________________________\n"
     ]
    }
   ],
   "source": [
    "def get_model(input_shape):\n",
    "    model = Sequential([\n",
    "        Conv2D(24, kernel_size=(5,5), strides=(2,2), activation='relu', input_shape=input_shape),\n",
    "        BatchNormalization(axis=1),\n",
    "        Conv2D(36, kernel_size=(5,5), strides=(2,2), activation='relu'),\n",
    "        BatchNormalization(axis=1),\n",
    "        Conv2D(48, kernel_size=(5,5), strides=(2,2), activation='relu'),\n",
    "        BatchNormalization(axis=1),\n",
    "        Conv2D(64, kernel_size=(3,3), strides=(1,1), activation='relu'),\n",
    "        BatchNormalization(axis=1),\n",
    "        Conv2D(64, kernel_size=(3,3), strides=(1,1), activation='relu'),\n",
    "        BatchNormalization(axis=1),\n",
    "        Flatten(),\n",
    "        Dense(100, activation='relu'),\n",
    "        Dropout(0.2),\n",
    "        BatchNormalization(),\n",
    "        Dense(50, activation='relu'),\n",
    "        Dropout(0.2),\n",
    "        BatchNormalization(),\n",
    "        Dense(10, activation='relu'),\n",
    "        Dropout(0.2),\n",
    "        BatchNormalization(),\n",
    "        Dense(1)\n",
    "    ])\n",
    "    \n",
    "    return model\n",
    "\n",
    "model = get_model(input_shape)\n",
    "sgd = SGD(lr=1e-3, decay=1e-4, momentum=0.9, nesterov=True)\n",
    "model.compile(optimizer=sgd, loss=\"mse\") \n",
    "model.summary()"
   ]
  },
  {
   "cell_type": "code",
   "execution_count": null,
   "metadata": {},
   "outputs": [
    {
     "name": "stdout",
     "output_type": "stream",
     "text": [
      "Train on 25554 samples, validate on 6389 samples\n",
      "Epoch 1/20\n"
     ]
    }
   ],
   "source": [
    "from keras.callbacks import LearningRateScheduler, EarlyStopping, TerminateOnNaN,History\n",
    "from sklearn.metrics import accuracy_score, classification_report, confusion_matrix, label_ranking_average_precision_score, label_ranking_loss, coverage_error \n",
    "\n",
    "\n",
    "history = model.fit(X_train, y_train, \n",
    "                    epochs=20, \n",
    "                    batch_size=batch_size, \n",
    "                    verbose=2, \n",
    "                    validation_data=(X_valid, y_valid),\n",
    "                    shuffle=True)    \n",
    "model.save('model.h5') \n",
    "y_pred = model.predict(X_valid, batch_size=batch_size)\n",
    "\n",
    "print(classification_report(y_valid.argmax(axis=1), y_pred.argmax(axis=1)))"
   ]
  },
  {
   "cell_type": "code",
   "execution_count": null,
   "metadata": {},
   "outputs": [],
   "source": [
    "import pandas as pd\n",
    "import numpy as np\n",
    "import matplotlib.pyplot as plt\n",
    "from PIL import Image\n",
    "from matplotlib import image\n",
    "from os import listdir\n",
    "import math\n",
    "\n",
    "\n",
    "\n",
    "loss = history.history['loss']\n",
    "val_loss = history.history['val_loss']\n",
    " \n",
    "epochs = range(len(loss))\n",
    " \n",
    " \n",
    "plt.plot(epochs, loss, 'b', label='Training loss')\n",
    "plt.plot(epochs, val_loss, 'r', label='Validation loss')\n",
    "plt.title('Training and validation loss')\n",
    "plt.legend()\n",
    " \n",
    "plt.show()"
   ]
  }
 ],
 "metadata": {
  "kernelspec": {
   "display_name": "Python 3",
   "language": "python",
   "name": "python3"
  },
  "language_info": {
   "codemirror_mode": {
    "name": "ipython",
    "version": 3
   },
   "file_extension": ".py",
   "mimetype": "text/x-python",
   "name": "python",
   "nbconvert_exporter": "python",
   "pygments_lexer": "ipython3",
   "version": "3.7.4"
  }
 },
 "nbformat": 4,
 "nbformat_minor": 2
}
